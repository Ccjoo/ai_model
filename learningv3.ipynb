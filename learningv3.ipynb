{
 "cells": [
  {
   "cell_type": "code",
   "execution_count": 1,
   "metadata": {},
   "outputs": [],
   "source": [
    "#모델 학습\n",
    "import tensorflow as tf\n",
    "from tensorflow.keras.preprocessing.image import ImageDataGenerator\n",
    "from tensorflow.keras.models import Sequential\n",
    "from tensorflow.keras.layers import Conv2D, MaxPooling2D\n",
    "from tensorflow.keras.layers import Activation, Dropout, Flatten, Dense\n",
    "from tensorflow.keras import backend as K\n",
    "\n",
    "#train, test 분류\n",
    "from sklearn.model_selection import train_test_split\n",
    "\n",
    "#날짜 생성\n",
    "from datetime import datetime\n",
    "\n",
    "#그래프 생성\n",
    "import matplotlib.pyplot as plt"
   ]
  },
  {
   "cell_type": "code",
   "execution_count": 2,
   "metadata": {},
   "outputs": [],
   "source": [
    "target = ['affenpinscher',\n",
    "'afghan_hound',\n",
    "'african_hunting_dog',\n",
    "'airedale',\n",
    "'american_staffordshire_terrier',\n",
    "'appenzeller',\n",
    "'australian_terrier',\n",
    "'basenji',\n",
    "'basset',\n",
    "'beagle',\n",
    "'bedlington_terrier',\n",
    "'bernese_mountain_dog',\n",
    "'black-and-tan_coonhound',\n",
    "'blenheim_spaniel',\n",
    "'bloodhound',\n",
    "'bluetick',\n",
    "'border_collie',\n",
    "'border_terrier',\n",
    "'borzoi',\n",
    "'boston_bull',\n",
    "'bouvier_des_flandres',\n",
    "'boxer',\n",
    "'brabancon_griffon',\n",
    "'briard',\n",
    "'brittany_spaniel',\n",
    "'bull_mastiff',\n",
    "'cairn',\n",
    "'cardigan',\n",
    "'chesapeake_bay_retriever',\n",
    "'chihuahua',\n",
    "'chow',\n",
    "'clumber',\n",
    "'cocker_spaniel',\n",
    "'collie',\n",
    "'curly-coated_retriever',\n",
    "'dandie_dinmont',\n",
    "'dhole',\n",
    "'dingo',\n",
    "'doberman',\n",
    "'english_foxhound',\n",
    "'english_setter',\n",
    "'english_springer',\n",
    "'entlebucher',\n",
    "'eskimo_dog',\n",
    "'flat-coated_retriever',\n",
    "'french_bulldog',\n",
    "'german_shepherd',\n",
    "'german_short-haired_pointer',\n",
    "'giant_schnauzer',\n",
    "'golden_retriever',\n",
    "'gordon_setter',\n",
    "'great_dane',\n",
    "'great_pyrenees',\n",
    "'greater_swiss_mountain_dog',\n",
    "'groenendael',\n",
    "'ibizan_hound',\n",
    "'irish_setter',\n",
    "'irish_terrier',\n",
    "'irish_water_spaniel',\n",
    "'irish_wolfhound',\n",
    "'italian_greyhound',\n",
    "'japanese_spaniel',\n",
    "'keeshond',\n",
    "'kelpie',\n",
    "'kerry_blue_terrier',\n",
    "'komondor',\n",
    "'kuvasz',\n",
    "'labrador_retriever',\n",
    "'lakeland_terrier',\n",
    "'leonberg',\n",
    "'lhasa',\n",
    "'malamute',\n",
    "'malinois',\n",
    "'maltese_dog',\n",
    "'mexican_hairless',\n",
    "'miniature_pinscher',\n",
    "'miniature_poodle',\n",
    "'miniature_schnauzer',\n",
    "'newfoundland',\n",
    "'norfolk_terrier',\n",
    "'norwegian_elkhound',\n",
    "'norwich_terrier',\n",
    "'old_english_sheepdog',\n",
    "'otterhound',\n",
    "'papillon',\n",
    "'pekinese',\n",
    "'pembroke',\n",
    "'pomeranian',\n",
    "'pug',\n",
    "'redbone',\n",
    "'rhodesian_ridgeback',\n",
    "'rottweiler',\n",
    "'saint_bernard',\n",
    "'saluki',\n",
    "'samoyed',\n",
    "'schipperke',\n",
    "'scotch_terrier',\n",
    "'scottish_deerhound',\n",
    "'sealyham_terrier',\n",
    "'shetland_sheepdog',\n",
    "'shih-tzu',\n",
    "'siberian_husky',\n",
    "'silky_terrier',\n",
    "'soft-coated_wheaten_terrier',\n",
    "'staffordshire_bullterrier',\n",
    "'standard_poodle',\n",
    "'standard_schnauzer',\n",
    "'sussex_spaniel',\n",
    "'tibetan_mastiff',\n",
    "'tibetan_terrier',\n",
    "'toy_poodle',\n",
    "'toy_terrier',\n",
    "'vizsla',\n",
    "'walker_hound',\n",
    "'weimaraner',\n",
    "'welsh_springer_spaniel',\n",
    "'west_highland_white_terrier',\n",
    "'whippet',\n",
    "'wire-haired_fox_terrier',\n",
    "'yorkshire_terrier'\n",
    "]"
   ]
  },
  {
   "cell_type": "code",
   "execution_count": 3,
   "metadata": {},
   "outputs": [
    {
     "name": "stdout",
     "output_type": "stream",
     "text": [
      "Model: \"sequential\"\n",
      "_________________________________________________________________\n",
      "Layer (type)                 Output Shape              Param #   \n",
      "=================================================================\n",
      "conv2d (Conv2D)              (None, 300, 300, 32)      896       \n",
      "_________________________________________________________________\n",
      "activation (Activation)      (None, 300, 300, 32)      0         \n",
      "_________________________________________________________________\n",
      "max_pooling2d (MaxPooling2D) (None, 150, 150, 32)      0         \n",
      "_________________________________________________________________\n",
      "conv2d_1 (Conv2D)            (None, 150, 150, 32)      9248      \n",
      "_________________________________________________________________\n",
      "activation_1 (Activation)    (None, 150, 150, 32)      0         \n",
      "_________________________________________________________________\n",
      "max_pooling2d_1 (MaxPooling2 (None, 150, 150, 32)      0         \n",
      "_________________________________________________________________\n",
      "conv2d_2 (Conv2D)            (None, 150, 150, 64)      18496     \n",
      "_________________________________________________________________\n",
      "activation_2 (Activation)    (None, 150, 150, 64)      0         \n",
      "_________________________________________________________________\n",
      "max_pooling2d_2 (MaxPooling2 (None, 75, 75, 64)        0         \n",
      "_________________________________________________________________\n",
      "conv2d_3 (Conv2D)            (None, 75, 75, 64)        36928     \n",
      "_________________________________________________________________\n",
      "activation_3 (Activation)    (None, 75, 75, 64)        0         \n",
      "_________________________________________________________________\n",
      "max_pooling2d_3 (MaxPooling2 (None, 75, 75, 64)        0         \n",
      "_________________________________________________________________\n",
      "conv2d_4 (Conv2D)            (None, 75, 75, 128)       73856     \n",
      "_________________________________________________________________\n",
      "activation_4 (Activation)    (None, 75, 75, 128)       0         \n",
      "_________________________________________________________________\n",
      "max_pooling2d_4 (MaxPooling2 (None, 38, 38, 128)       0         \n",
      "_________________________________________________________________\n",
      "flatten (Flatten)            (None, 184832)            0         \n",
      "_________________________________________________________________\n",
      "dense (Dense)                (None, 10)                1848330   \n",
      "_________________________________________________________________\n",
      "activation_5 (Activation)    (None, 10)                0         \n",
      "_________________________________________________________________\n",
      "dropout (Dropout)            (None, 10)                0         \n",
      "_________________________________________________________________\n",
      "dense_1 (Dense)              (None, 1)                 11        \n",
      "_________________________________________________________________\n",
      "activation_6 (Activation)    (None, 1)                 0         \n",
      "=================================================================\n",
      "Total params: 1,987,765\n",
      "Trainable params: 1,987,765\n",
      "Non-trainable params: 0\n",
      "_________________________________________________________________\n"
     ]
    }
   ],
   "source": [
    "# dimensions of our images.\n",
    "img_width, img_height = 300, 300\n",
    "\n",
    "model = Sequential()\n",
    "model.add(Conv2D(32, (3, 3), input_shape=(300, 300, 3), padding = \"same\"))\n",
    "model.add(Activation('relu'))\n",
    "model.add(MaxPooling2D((2, 2), padding = \"same\"))\n",
    "\n",
    "model.add(Conv2D(32, (3, 3), padding = \"same\"))\n",
    "model.add(Activation('relu'))\n",
    "model.add(MaxPooling2D((1, 1), padding = \"same\"))\n",
    "\n",
    "model.add(Conv2D(64, (3, 3), padding = \"same\"))\n",
    "model.add(Activation('relu'))\n",
    "model.add(MaxPooling2D((2, 2), padding = \"same\"))\n",
    "\n",
    "model.add(Conv2D(64, (3, 3), padding = \"same\"))\n",
    "model.add(Activation('relu'))\n",
    "model.add(MaxPooling2D((1, 1), padding = \"same\"))\n",
    "\n",
    "model.add(Conv2D(128, (3, 3), padding = \"same\"))\n",
    "model.add(Activation('relu'))\n",
    "model.add(MaxPooling2D((2, 2), padding = \"same\"))\n",
    "\n",
    "model.add(Flatten())\n",
    "model.add(Dense(10))\n",
    "model.add(Activation('relu'))\n",
    "model.add(Dropout(0.5))\n",
    "model.add(Dense(1))\n",
    "model.add(Activation('sigmoid'))\n",
    "\n",
    "model.compile(optimizer='rmsprop',\n",
    "              loss='categorical_crossentropy',\n",
    "              metrics=['accuracy'])\n",
    "\n",
    "model.summary()"
   ]
  },
  {
   "cell_type": "code",
   "execution_count": 4,
   "metadata": {},
   "outputs": [
    {
     "name": "stdout",
     "output_type": "stream",
     "text": [
      "Found 7718 images belonging to 120 classes.\n",
      "Found 2504 images belonging to 120 classes.\n"
     ]
    }
   ],
   "source": [
    "trial = 3\n",
    "\n",
    "train_data_dir = 'C:\\\\Users\\\\BVer\\\\dog_\\\\YJ_Kim\\\\dataset\\\\images'#1111111111'\n",
    "\n",
    "epochs = 50\n",
    "batch_size = 32\n",
    "\n",
    "#train_datagen = ImageDataGenerator(\n",
    "#    rescale=1. / 255,\n",
    "#    shear_range=0.2,\n",
    "#    zoom_range=0.2,\n",
    "#    horizontal_flip=True)\n",
    "\n",
    "#data = train_datagen.flow_from_directory(\n",
    "#    train_data_dir,\n",
    "#    target_size=(img_width, img_height),\n",
    "#    batch_size=batch_size,\n",
    "#    class_mode='categorical')\n",
    "#####\n",
    "train_datagen = ImageDataGenerator(\n",
    "    rescale=1./255,\n",
    "    shear_range=0.2,\n",
    "    zoom_range=0.2,\n",
    "    horizontal_flip=True,\n",
    "    validation_split=0.25) # set validation split\n",
    "\n",
    "train_generator = train_datagen.flow_from_directory(\n",
    "    train_data_dir,\n",
    "    target_size=(img_height, img_width),\n",
    "    batch_size=batch_size,\n",
    "    class_mode='categorical',\n",
    "    subset='training') # set as training data\n",
    "\n",
    "validation_generator = train_datagen.flow_from_directory(\n",
    "    train_data_dir, # same directory as training data\n",
    "    target_size=(img_height, img_width),\n",
    "    batch_size=batch_size,\n",
    "    class_mode='categorical',\n",
    "    subset='validation') # set as validation data\n",
    "\n",
    "#train, test = train_test_split(data, test_size=0.2)\n",
    "#print(len(train), '훈련 샘플')\n",
    "#print(len(val), '검증 샘플')\n",
    "#print(len(test), '테스트 샘플')\n",
    "# train_test_split\n",
    "#x_train, x_valid, y_train, y_valid = train_test_split(data, target, test_size=0.2, shuffle=True, stratify=target, random_state=34)"
   ]
  },
  {
   "cell_type": "code",
   "execution_count": 5,
   "metadata": {},
   "outputs": [
    {
     "name": "stdout",
     "output_type": "stream",
     "text": [
      "Epoch 1/50\n",
      "241/241 [==============================] - 642s 3s/step - loss: 1.1921e-07 - accuracy: 0.4753 - val_loss: 1.1921e-07 - val_accuracy: 0.4984\n",
      "Epoch 2/50\n",
      "241/241 [==============================] - 644s 3s/step - loss: 1.1921e-07 - accuracy: 0.4887 - val_loss: 1.1921e-07 - val_accuracy: 0.4791\n",
      "Epoch 3/50\n",
      "241/241 [==============================] - 640s 3s/step - loss: 1.1921e-07 - accuracy: 0.4751 - val_loss: 1.1921e-07 - val_accuracy: 0.4882\n",
      "Epoch 4/50\n",
      "241/241 [==============================] - 635s 3s/step - loss: 1.1921e-07 - accuracy: 0.4838 - val_loss: 1.1921e-07 - val_accuracy: 0.4807\n",
      "Epoch 5/50\n",
      "241/241 [==============================] - 637s 3s/step - loss: 1.1921e-07 - accuracy: 0.4791 - val_loss: 1.1921e-07 - val_accuracy: 0.4846\n",
      "Epoch 6/50\n",
      "241/241 [==============================] - 635s 3s/step - loss: 1.1921e-07 - accuracy: 0.4694 - val_loss: 1.1921e-07 - val_accuracy: 0.4787\n",
      "Epoch 7/50\n",
      "241/241 [==============================] - 636s 3s/step - loss: 1.1921e-07 - accuracy: 0.4710 - val_loss: 1.1921e-07 - val_accuracy: 0.4838\n",
      "Epoch 8/50\n",
      "241/241 [==============================] - 635s 3s/step - loss: 1.1921e-07 - accuracy: 0.4779 - val_loss: 1.1921e-07 - val_accuracy: 0.4894\n",
      "Epoch 9/50\n",
      "241/241 [==============================] - 635s 3s/step - loss: 1.1921e-07 - accuracy: 0.4904 - val_loss: 1.1921e-07 - val_accuracy: 0.4811\n",
      "Epoch 10/50\n",
      "241/241 [==============================] - 637s 3s/step - loss: 1.1921e-07 - accuracy: 0.4813 - val_loss: 1.1921e-07 - val_accuracy: 0.4799\n",
      "Epoch 11/50\n",
      "241/241 [==============================] - 636s 3s/step - loss: 1.1921e-07 - accuracy: 0.4804 - val_loss: 1.1921e-07 - val_accuracy: 0.4898\n",
      "Epoch 12/50\n",
      "241/241 [==============================] - 637s 3s/step - loss: 1.1921e-07 - accuracy: 0.4835 - val_loss: 1.1921e-07 - val_accuracy: 0.4838\n",
      "Epoch 13/50\n",
      "241/241 [==============================] - 636s 3s/step - loss: 1.1921e-07 - accuracy: 0.4731 - val_loss: 1.1921e-07 - val_accuracy: 0.4882\n",
      "Epoch 14/50\n",
      "241/241 [==============================] - 636s 3s/step - loss: 1.1921e-07 - accuracy: 0.4812 - val_loss: 1.1921e-07 - val_accuracy: 0.4638\n",
      "Epoch 15/50\n",
      "241/241 [==============================] - 637s 3s/step - loss: 1.1921e-07 - accuracy: 0.4818 - val_loss: 1.1921e-07 - val_accuracy: 0.4815\n",
      "Epoch 16/50\n",
      "241/241 [==============================] - 635s 3s/step - loss: 1.1921e-07 - accuracy: 0.4808 - val_loss: 1.1921e-07 - val_accuracy: 0.4811\n",
      "Epoch 17/50\n",
      "241/241 [==============================] - 635s 3s/step - loss: 1.1921e-07 - accuracy: 0.4834 - val_loss: 1.1921e-07 - val_accuracy: 0.4890\n",
      "Epoch 18/50\n",
      "241/241 [==============================] - 634s 3s/step - loss: 1.1921e-07 - accuracy: 0.4784 - val_loss: 1.1921e-07 - val_accuracy: 0.4819\n",
      "Epoch 19/50\n",
      "241/241 [==============================] - 636s 3s/step - loss: 1.1921e-07 - accuracy: 0.4735 - val_loss: 1.1921e-07 - val_accuracy: 0.4811\n",
      "Epoch 20/50\n",
      "241/241 [==============================] - 636s 3s/step - loss: 1.1921e-07 - accuracy: 0.4761 - val_loss: 1.1921e-07 - val_accuracy: 0.4827\n",
      "Epoch 21/50\n",
      "241/241 [==============================] - 636s 3s/step - loss: 1.1921e-07 - accuracy: 0.4864 - val_loss: 1.1921e-07 - val_accuracy: 0.4827\n",
      "Epoch 22/50\n",
      "241/241 [==============================] - 636s 3s/step - loss: 1.1921e-07 - accuracy: 0.4721 - val_loss: 1.1921e-07 - val_accuracy: 0.4791\n",
      "Epoch 23/50\n",
      "241/241 [==============================] - 636s 3s/step - loss: 1.1921e-07 - accuracy: 0.4825 - val_loss: 1.1921e-07 - val_accuracy: 0.4846\n",
      "Epoch 24/50\n",
      "241/241 [==============================] - 637s 3s/step - loss: 1.1921e-07 - accuracy: 0.4843 - val_loss: 1.1921e-07 - val_accuracy: 0.4886\n",
      "Epoch 25/50\n",
      "241/241 [==============================] - 636s 3s/step - loss: 1.1921e-07 - accuracy: 0.4766 - val_loss: 1.1921e-07 - val_accuracy: 0.4854\n",
      "Epoch 26/50\n",
      "241/241 [==============================] - 636s 3s/step - loss: 1.1921e-07 - accuracy: 0.4789 - val_loss: 1.1921e-07 - val_accuracy: 0.5071\n",
      "Epoch 27/50\n",
      "241/241 [==============================] - 635s 3s/step - loss: 1.1921e-07 - accuracy: 0.4745 - val_loss: 1.1921e-07 - val_accuracy: 0.4815\n",
      "Epoch 28/50\n",
      "241/241 [==============================] - 636s 3s/step - loss: 1.1921e-07 - accuracy: 0.4722 - val_loss: 1.1921e-07 - val_accuracy: 0.4799\n",
      "Epoch 29/50\n",
      "241/241 [==============================] - 636s 3s/step - loss: 1.1921e-07 - accuracy: 0.4835 - val_loss: 1.1921e-07 - val_accuracy: 0.4862\n",
      "Epoch 30/50\n",
      "241/241 [==============================] - 636s 3s/step - loss: 1.1921e-07 - accuracy: 0.4771 - val_loss: 1.1921e-07 - val_accuracy: 0.4862\n",
      "Epoch 31/50\n",
      "241/241 [==============================] - 635s 3s/step - loss: 1.1921e-07 - accuracy: 0.4798 - val_loss: 1.1921e-07 - val_accuracy: 0.4791\n",
      "Epoch 32/50\n",
      "241/241 [==============================] - 636s 3s/step - loss: 1.1921e-07 - accuracy: 0.4687 - val_loss: 1.1921e-07 - val_accuracy: 0.4913\n",
      "Epoch 33/50\n",
      "241/241 [==============================] - 638s 3s/step - loss: 1.1921e-07 - accuracy: 0.4807 - val_loss: 1.1921e-07 - val_accuracy: 0.4909\n",
      "Epoch 34/50\n",
      "241/241 [==============================] - 637s 3s/step - loss: 1.1921e-07 - accuracy: 0.4830 - val_loss: 1.1921e-07 - val_accuracy: 0.4779\n",
      "Epoch 35/50\n",
      "241/241 [==============================] - 636s 3s/step - loss: 1.1921e-07 - accuracy: 0.4749 - val_loss: 1.1921e-07 - val_accuracy: 0.4921\n",
      "Epoch 36/50\n",
      "241/241 [==============================] - 637s 3s/step - loss: 1.1921e-07 - accuracy: 0.4793 - val_loss: 1.1921e-07 - val_accuracy: 0.4783\n",
      "Epoch 37/50\n",
      "241/241 [==============================] - 636s 3s/step - loss: 1.1921e-07 - accuracy: 0.4798 - val_loss: 1.1921e-07 - val_accuracy: 0.4886\n",
      "Epoch 38/50\n",
      "241/241 [==============================] - 636s 3s/step - loss: 1.1921e-07 - accuracy: 0.4743 - val_loss: 1.1921e-07 - val_accuracy: 0.4913\n",
      "Epoch 39/50\n",
      "241/241 [==============================] - 636s 3s/step - loss: 1.1921e-07 - accuracy: 0.4816 - val_loss: 1.1921e-07 - val_accuracy: 0.4854\n",
      "Epoch 40/50\n",
      "241/241 [==============================] - 636s 3s/step - loss: 1.1921e-07 - accuracy: 0.4785 - val_loss: 1.1921e-07 - val_accuracy: 0.4827\n",
      "Epoch 41/50\n",
      "241/241 [==============================] - 635s 3s/step - loss: 1.1921e-07 - accuracy: 0.4823 - val_loss: 1.1921e-07 - val_accuracy: 0.4634\n",
      "Epoch 42/50\n",
      "241/241 [==============================] - 635s 3s/step - loss: 1.1921e-07 - accuracy: 0.4806 - val_loss: 1.1921e-07 - val_accuracy: 0.4764\n",
      "Epoch 43/50\n",
      "241/241 [==============================] - 636s 3s/step - loss: 1.1921e-07 - accuracy: 0.4771 - val_loss: 1.1921e-07 - val_accuracy: 0.4838\n",
      "Epoch 44/50\n",
      "241/241 [==============================] - 636s 3s/step - loss: 1.1921e-07 - accuracy: 0.4772 - val_loss: 1.1921e-07 - val_accuracy: 0.4933\n",
      "Epoch 45/50\n",
      "241/241 [==============================] - 635s 3s/step - loss: 1.1921e-07 - accuracy: 0.4788 - val_loss: 1.1921e-07 - val_accuracy: 0.4854\n",
      "Epoch 46/50\n",
      "241/241 [==============================] - 635s 3s/step - loss: 1.1921e-07 - accuracy: 0.4852 - val_loss: 1.1921e-07 - val_accuracy: 0.4838\n",
      "Epoch 47/50\n",
      "241/241 [==============================] - 642s 3s/step - loss: 1.1921e-07 - accuracy: 0.4863 - val_loss: 1.1921e-07 - val_accuracy: 0.4728\n",
      "Epoch 48/50\n",
      "241/241 [==============================] - 637s 3s/step - loss: 1.1921e-07 - accuracy: 0.4763 - val_loss: 1.1921e-07 - val_accuracy: 0.4874\n",
      "Epoch 49/50\n",
      "241/241 [==============================] - 637s 3s/step - loss: 1.1921e-07 - accuracy: 0.4793 - val_loss: 1.1921e-07 - val_accuracy: 0.4905\n",
      "Epoch 50/50\n",
      "241/241 [==============================] - 637s 3s/step - loss: 1.1921e-07 - accuracy: 0.4873 - val_loss: 1.1921e-07 - val_accuracy: 0.4693\n"
     ]
    }
   ],
   "source": [
    "history = model.fit(\n",
    "    #data,\n",
    "    #steps_per_epoch=len(data) // batch_size,\n",
    "    train_generator,\n",
    "    steps_per_epoch = train_generator.samples // batch_size,\n",
    "    validation_data = validation_generator, \n",
    "    validation_steps = validation_generator.samples // batch_size,\n",
    "    epochs=epochs)\n",
    "\n",
    "model.save_weights(datetime.today().strftime(\"%Y%m%d\")+ '_' +str(trial) +'.h5')"
   ]
  },
  {
   "cell_type": "code",
   "execution_count": 6,
   "metadata": {},
   "outputs": [
    {
     "data": {
      "text/plain": [
       "Text(0.5, 0, 'Epoch')"
      ]
     },
     "execution_count": 6,
     "metadata": {},
     "output_type": "execute_result"
    },
    {
     "data": {
      "image/png": "[encoded data removed]",
      "text/plain": [
       "<Figure size 432x288 with 1 Axes>"
      ]
     },
     "metadata": {
      "needs_background": "light"
     },
     "output_type": "display_data"
    }
   ],
   "source": [
    "plt.plot(history.history['loss'])\n",
    "plt.plot(history.history['val_loss'])\n",
    "plt.title('Model Loss')\n",
    "plt.ylabel('Loss')\n",
    "plt.xlabel('Epoch')"
   ]
  },
  {
   "cell_type": "code",
   "execution_count": 7,
   "metadata": {},
   "outputs": [
    {
     "data": {
      "text/plain": [
       "Text(0.5, 0, 'Epoch')"
      ]
     },
     "execution_count": 7,
     "metadata": {},
     "output_type": "execute_result"
    },
    {
     "data": {
      "image/png": "[encoded data removed]",
      "text/plain": [
       "<Figure size 432x288 with 1 Axes>"
      ]
     },
     "metadata": {
      "needs_background": "light"
     },
     "output_type": "display_data"
    }
   ],
   "source": [
    "plt.plot(history.history['accuracy'])\n",
    "plt.plot(history.history['val_accuracy'])\n",
    "plt.title('Model Accuracy')\n",
    "plt.ylabel('Accuracy')\n",
    "plt.xlabel('Epoch')"
   ]
  },
  {
   "cell_type": "code",
   "execution_count": 8,
   "metadata": {},
   "outputs": [
    {
     "name": "stdout",
     "output_type": "stream",
     "text": [
      "WARNING:tensorflow:From <ipython-input-8-369d762e69d5>:2: Sequential.predict_classes (from tensorflow.python.keras.engine.sequential) is deprecated and will be removed after 2021-01-01.\n",
      "Instructions for updating:\n",
      "Please use instead:* `np.argmax(model.predict(x), axis=-1)`,   if your model does multi-class classification   (e.g. if it uses a `softmax` last-layer activation).* `(model.predict(x) > 0.5).astype(\"int32\")`,   if your model does binary classification   (e.g. if it uses a `sigmoid` last-layer activation).\n"
     ]
    }
   ],
   "source": [
    "predictions = model.predict(validation_generator)\n",
    "predictions_class = model.predict_classes(validation_generator)"
   ]
  },
  {
   "cell_type": "code",
   "execution_count": 17,
   "metadata": {},
   "outputs": [
    {
     "data": {
      "text/plain": [
       "array([[1],\n",
       "       [1],\n",
       "       [0],\n",
       "       ...,\n",
       "       [0],\n",
       "       [0],\n",
       "       [0]])"
      ]
     },
     "execution_count": 17,
     "metadata": {},
     "output_type": "execute_result"
    }
   ],
   "source": [
    "(model.predict(validation_generator) > 0.5).astype(\"int32\")"
   ]
  },
  {
   "cell_type": "code",
   "execution_count": 9,
   "metadata": {},
   "outputs": [
    {
     "data": {
      "text/plain": [
       "array([[0.5014144 ],\n",
       "       [0.50177205],\n",
       "       [0.49890944],\n",
       "       ...,\n",
       "       [0.4988699 ],\n",
       "       [0.49990198],\n",
       "       [0.49792665]], dtype=float32)"
      ]
     },
     "execution_count": 9,
     "metadata": {},
     "output_type": "execute_result"
    }
   ],
   "source": [
    "predictions"
   ]
  },
  {
   "cell_type": "code",
   "execution_count": 10,
   "metadata": {},
   "outputs": [
    {
     "data": {
      "text/plain": [
       "array([[0],\n",
       "       [0],\n",
       "       [1],\n",
       "       ...,\n",
       "       [0],\n",
       "       [1],\n",
       "       [1]])"
      ]
     },
     "execution_count": 10,
     "metadata": {},
     "output_type": "execute_result"
    }
   ],
   "source": [
    "predictions_class"
   ]
  },
  {
   "cell_type": "code",
   "execution_count": 11,
   "metadata": {},
   "outputs": [
    {
     "name": "stdout",
     "output_type": "stream",
     "text": [
      "79/79 [==============================] - 57s 720ms/step - loss: 1.1921e-07 - accuracy: 0.4717\n"
     ]
    }
   ],
   "source": [
    "test_loss, test_acc = model.evaluate(validation_generator, batch_size=50, verbose=1)"
   ]
  },
  {
   "cell_type": "code",
   "execution_count": 12,
   "metadata": {},
   "outputs": [
    {
     "name": "stdout",
     "output_type": "stream",
     "text": [
      "WARNING:tensorflow:From <ipython-input-12-0d3e4c219485>:1: Model.evaluate_generator (from tensorflow.python.keras.engine.training) is deprecated and will be removed in a future version.\n",
      "Instructions for updating:\n",
      "Please use Model.evaluate, which supports generators.\n"
     ]
    }
   ],
   "source": [
    "scores = model.evaluate_generator(validation_generator, steps=5)"
   ]
  },
  {
   "cell_type": "code",
   "execution_count": 13,
   "metadata": {},
   "outputs": [
    {
     "name": "stdout",
     "output_type": "stream",
     "text": [
      "-- Evaluate --\n",
      "accuracy: 51.23%\n"
     ]
    }
   ],
   "source": [
    "print(\"-- Evaluate --\")\n",
    "print(\"%s: %.2f%%\" %(model.metrics_names[1], scores[1]*100))"
   ]
  },
  {
   "cell_type": "code",
   "execution_count": null,
   "metadata": {},
   "outputs": [],
   "source": []
  }
 ],
 "metadata": {
  "kernelspec": {
   "display_name": "Python 3",
   "language": "python",
   "name": "python3"
  },
  "language_info": {
   "codemirror_mode": {
    "name": "ipython",
    "version": 3
   },
   "file_extension": ".py",
   "mimetype": "text/x-python",
   "name": "python",
   "nbconvert_exporter": "python",
   "pygments_lexer": "ipython3",
   "version": "3.7.10"
  }
 },
 "nbformat": 4,
 "nbformat_minor": 4
}
